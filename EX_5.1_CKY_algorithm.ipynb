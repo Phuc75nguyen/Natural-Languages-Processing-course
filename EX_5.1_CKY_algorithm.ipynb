{
 "cells": [
  {
   "cell_type": "markdown",
   "metadata": {},
   "source": [
    "Code này giả sử bạn có một ngữ pháp CNF được biểu diễn dưới dạng dictionary, trong đó mỗi quy tắc được lưu dưới dạng key là non-terminal bên trái và value là danh sách các tuple đại diện cho phần bên phải của quy tắc."
   ]
  },
  {
   "cell_type": "code",
   "execution_count": 17,
   "metadata": {},
   "outputs": [
    {
     "name": "stdout",
     "output_type": "stream",
     "text": [
      "Bảng CKY:\n",
      "[{'V', 'N'}, set(), {'VP'}]\n",
      "[set(), {'Det'}, {'NP'}]\n",
      "[set(), set(), {'N'}]\n",
      "Câu không được chấp nhận theo ngữ pháp.\n"
     ]
    }
   ],
   "source": [
    "def cky_parse(words, grammar, start_symbol=\"S\"):\n",
    "    \"\"\"\n",
    "    Thực hiện CKY parsing cho câu 'words' với ngữ pháp 'grammar' ở dạng CNF.\n",
    "    :param words: List các từ trong câu.\n",
    "    :param grammar: Dictionary biểu diễn ngữ pháp CNF.\n",
    "                     Ví dụ: { \"S\": [(\"NP\", \"VP\")], \"VP\": [(\"V\", \"NP\")], \"NP\": [(\"Det\", \"N\")], ... }\n",
    "    :param start_symbol: Ký hiệu bắt đầu của ngữ pháp (mặc định \"S\").\n",
    "    :return: Bảng CKY (list 2D) với mỗi ô chứa tập hợp các non-terminal có thể sinh ra đoạn con tương ứng.\n",
    "    \"\"\"\n",
    "    n = len(words)\n",
    "    # Tạo bảng n x n, mỗi ô là một tập rỗng\n",
    "    table = [[set() for j in range(n)] for i in range(n)]\n",
    "    \n",
    "    # Bước 1: Điền bảng với các quy tắc A -> a cho từng từ đơn.\n",
    "    for i, word in enumerate(words):\n",
    "        # Duyệt qua ngữ pháp để tìm các quy tắc có dạng A -> word\n",
    "        for lhs, productions in grammar.items():\n",
    "            for prod in productions:\n",
    "                if len(prod) == 1 and prod[0] == word:\n",
    "                    table[i][i].add(lhs)\n",
    "        # In ra thông tin (debug)\n",
    "            #print(f\"table[{i}][{i}] = {table[i][i]}\")\n",
    "    \n",
    "    # Bước 2: Điền bảng cho các đoạn con có độ dài > 1.\n",
    "    # l là độ dài đoạn con từ 2 đến n.\n",
    "    for l in range(2, n + 1):\n",
    "        for i in range(n - l + 1):\n",
    "            j = i + l - 1\n",
    "            # Chia đoạn con từ i đến j tại các vị trí k từ i đến j-1\n",
    "            for k in range(i, j):\n",
    "                # Xét tất cả các quy tắc A -> B C\n",
    "                for lhs, productions in grammar.items():\n",
    "                    for prod in productions:\n",
    "                        if len(prod) == 2:\n",
    "                            B, C = prod\n",
    "                            # Nếu B có trong table[i][k] và C có trong table[k+1][j] thì thêm A vào table[i][j]\n",
    "                            if B in table[i][k] and C in table[k+1][j]:\n",
    "                                table[i][j].add(lhs)\n",
    "            # print(f\"table[{i}][{j}] = {table[i][j]}\")\n",
    "    \n",
    "    # Kiểm tra xem ký hiệu bắt đầu có ở ô chứa toàn bộ câu không\n",
    "    return table, (start_symbol in table[0][n - 1])\n",
    "\n",
    "# Ví dụ ngữ pháp CNF đơn giản\n",
    "# Ngữ pháp này là một ví dụ rất đơn giản cho câu \"book the flight\"\n",
    "grammar = {\n",
    "    \"S\": [(\"NP\", \"VP\")],\n",
    "    \"VP\": [(\"V\", \"NP\")],\n",
    "    \"NP\": [(\"Det\", \"N\"), (\"NP\", \"PP\")],\n",
    "    \"PP\": [(\"P\", \"NP\")],\n",
    "    \"Det\": [(\"the\",)],\n",
    "    \"N\": [(\"book\",), (\"flight\",)],\n",
    "    \"V\": [(\"book\",)],\n",
    "    \"P\": [(\"through\",)]\n",
    "}\n",
    "\n",
    "# Ví dụ câu để phân tích\n",
    "sentence = \"book the flight\".split()\n",
    "\n",
    "# Thực hiện CKY parsing\n",
    "table, accepted = cky_parse(sentence, grammar, start_symbol=\"S\")\n",
    "\n",
    "print(\"Bảng CKY:\")\n",
    "for row in table:\n",
    "    print(row)\n",
    "\n",
    "if accepted:\n",
    "    print(\"Câu được chấp nhận theo ngữ pháp (S xuất hiện trong ô [0][n-1]).\")\n",
    "else:\n",
    "    print(\"Câu không được chấp nhận theo ngữ pháp.\")\n",
    "\n"
   ]
  }
 ],
 "metadata": {
  "kernelspec": {
   "display_name": "base",
   "language": "python",
   "name": "python3"
  },
  "language_info": {
   "codemirror_mode": {
    "name": "ipython",
    "version": 3
   },
   "file_extension": ".py",
   "mimetype": "text/x-python",
   "name": "python",
   "nbconvert_exporter": "python",
   "pygments_lexer": "ipython3",
   "version": "3.12.4"
  }
 },
 "nbformat": 4,
 "nbformat_minor": 2
}
