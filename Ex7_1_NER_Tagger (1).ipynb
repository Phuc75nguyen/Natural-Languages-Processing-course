{
  "nbformat": 4,
  "nbformat_minor": 0,
  "metadata": {
    "colab": {
      "provenance": []
    },
    "kernelspec": {
      "name": "python3",
      "display_name": "Python 3"
    },
    "language_info": {
      "name": "python"
    }
  },
  "cells": [
    {
      "cell_type": "code",
      "execution_count": 44,
      "metadata": {
        "colab": {
          "base_uri": "https://localhost:8080/"
        },
        "id": "wL5qM1M9BRLY",
        "outputId": "eea3be75-065d-4e0b-f0f0-a3ed4d2ea82a"
      },
      "outputs": [
        {
          "output_type": "stream",
          "name": "stdout",
          "text": [
            "Reading package lists... Done\n",
            "Building dependency tree... Done\n",
            "Reading state information... Done\n",
            "python2.7 is already the newest version (2.7.18-13ubuntu1.5).\n",
            "0 upgraded, 0 newly installed, 0 to remove and 29 not upgraded.\n"
          ]
        }
      ],
      "source": [
        "!sudo apt-get install python2.7 # to do the assignment with python version 2.7 vi paper' github"
      ]
    },
    {
      "cell_type": "code",
      "source": [
        "!wget https://bootstrap.pypa.io/pip/2.7/get-pip.py"
      ],
      "metadata": {
        "colab": {
          "base_uri": "https://localhost:8080/"
        },
        "id": "lcb8IVULFrr-",
        "outputId": "9d4a0686-88b3-4b87-c6be-21b5c3f3720c"
      },
      "execution_count": 46,
      "outputs": [
        {
          "output_type": "stream",
          "name": "stdout",
          "text": [
            "--2025-03-21 08:58:43--  https://bootstrap.pypa.io/pip/2.7/get-pip.py\n",
            "Resolving bootstrap.pypa.io (bootstrap.pypa.io)... 151.101.0.175, 151.101.64.175, 151.101.128.175, ...\n",
            "Connecting to bootstrap.pypa.io (bootstrap.pypa.io)|151.101.0.175|:443... connected.\n",
            "HTTP request sent, awaiting response... 200 OK\n",
            "Length: 1908226 (1.8M) [text/x-python]\n",
            "Saving to: ‘get-pip.py’\n",
            "\n",
            "get-pip.py          100%[===================>]   1.82M  --.-KB/s    in 0.08s   \n",
            "\n",
            "2025-03-21 08:58:44 (22.4 MB/s) - ‘get-pip.py’ saved [1908226/1908226]\n",
            "\n"
          ]
        }
      ]
    },
    {
      "cell_type": "code",
      "source": [
        "!python2.7 get-pip.py"
      ],
      "metadata": {
        "colab": {
          "base_uri": "https://localhost:8080/"
        },
        "id": "nuof_hXXF0v0",
        "outputId": "25278ec1-e584-458f-a0a1-0c8ec375e73b"
      },
      "execution_count": 47,
      "outputs": [
        {
          "output_type": "stream",
          "name": "stdout",
          "text": [
            "Collecting pip<21.0\n",
            "  Downloading pip-20.3.4-py2.py3-none-any.whl (1.5 MB)\n",
            "\u001b[K     |████████████████████████████████| 1.5 MB 2.8 MB/s \n",
            "\u001b[?25hCollecting setuptools<45\n",
            "  Downloading setuptools-44.1.1-py2.py3-none-any.whl (583 kB)\n",
            "\u001b[K     |████████████████████████████████| 583 kB 15.3 MB/s \n",
            "\u001b[?25hCollecting wheel\n",
            "  Downloading wheel-0.37.1-py2.py3-none-any.whl (35 kB)\n",
            "Installing collected packages: pip, setuptools, wheel\n",
            "Successfully installed pip-20.3.4 setuptools-44.1.1 wheel-0.37.1\n"
          ]
        }
      ]
    },
    {
      "cell_type": "code",
      "source": [
        "#install theano libraries\n",
        "!pip install numpy theano"
      ],
      "metadata": {
        "colab": {
          "base_uri": "https://localhost:8080/",
          "height": 446
        },
        "id": "1xDO5ToZF9sI",
        "outputId": "5f0407e1-ddf4-4bd5-82fa-2c44b51fe0b5"
      },
      "execution_count": 49,
      "outputs": [
        {
          "output_type": "stream",
          "name": "stdout",
          "text": [
            "Collecting numpy\n",
            "  Downloading numpy-1.16.6-cp27-cp27mu-manylinux1_x86_64.whl (17.0 MB)\n",
            "\u001b[K     |████████████████████████████████| 17.0 MB 1.3 MB/s \n",
            "\u001b[?25hCollecting theano\n",
            "  Downloading Theano-1.0.5.tar.gz (2.8 MB)\n",
            "\u001b[K     |████████████████████████████████| 2.8 MB 51.4 MB/s \n",
            "\u001b[?25hCollecting scipy>=0.14\n",
            "  Downloading scipy-1.2.3-cp27-cp27mu-manylinux1_x86_64.whl (24.8 MB)\n",
            "\u001b[K     |████████████████████████████████| 24.8 MB 1.4 MB/s \n",
            "\u001b[?25hCollecting six>=1.9.0\n",
            "  Downloading six-1.17.0-py2.py3-none-any.whl (11 kB)\n",
            "Building wheels for collected packages: theano\n",
            "  Building wheel for theano (setup.py) ... \u001b[?25l\u001b[?25hdone\n",
            "  Created wheel for theano: filename=Theano-1.0.5-py2-none-any.whl size=2668093 sha256=bfcab69c64cc1840f750d4061702d71f671c67a472724ddcdc2d1dc857d5fbe8\n",
            "  Stored in directory: /root/.cache/pip/wheels/a9/c0/8b/7b7a084a2039cebc816b780a71023a5424e5525942432ed906\n",
            "Successfully built theano\n",
            "Installing collected packages: numpy, scipy, six, theano\n",
            "Successfully installed numpy-1.16.6 scipy-1.2.3 six-1.17.0 theano-1.0.5\n"
          ]
        },
        {
          "output_type": "display_data",
          "data": {
            "application/vnd.colab-display-data+json": {
              "pip_warning": {
                "packages": [
                  "six"
                ]
              },
              "id": "f64f87d4f2054519a734d62c5e96fe60"
            }
          },
          "metadata": {}
        }
      ]
    },
    {
      "cell_type": "code",
      "source": [
        "!sudo apt-get install python2-dev"
      ],
      "metadata": {
        "colab": {
          "base_uri": "https://localhost:8080/"
        },
        "id": "_CUklJVPGKQL",
        "outputId": "3054a985-a93d-4c38-f9b6-a46afe870cb0"
      },
      "execution_count": null,
      "outputs": [
        {
          "output_type": "stream",
          "name": "stdout",
          "text": [
            "Reading package lists... Done\n",
            "Building dependency tree... Done\n",
            "Reading state information... Done\n",
            "The following additional packages will be installed:\n",
            "  libpython2-dev libpython2-stdlib libpython2.7 libpython2.7-dev python2\n",
            "  python2-minimal python2.7-dev\n",
            "Suggested packages:\n",
            "  python2-doc python-tk\n",
            "The following NEW packages will be installed:\n",
            "  libpython2-dev libpython2-stdlib libpython2.7 libpython2.7-dev python2\n",
            "  python2-dev python2-minimal python2.7-dev\n",
            "0 upgraded, 8 newly installed, 0 to remove and 29 not upgraded.\n",
            "Need to get 4,011 kB of archives.\n",
            "After this operation, 16.7 MB of additional disk space will be used.\n",
            "Get:1 http://archive.ubuntu.com/ubuntu jammy/universe amd64 python2-minimal amd64 2.7.18-3 [20.8 kB]\n",
            "Get:2 http://archive.ubuntu.com/ubuntu jammy/universe amd64 libpython2-stdlib amd64 2.7.18-3 [7,432 B]\n",
            "Get:3 http://archive.ubuntu.com/ubuntu jammy/universe amd64 python2 amd64 2.7.18-3 [9,098 B]\n",
            "Get:4 http://archive.ubuntu.com/ubuntu jammy-updates/universe amd64 libpython2.7 amd64 2.7.18-13ubuntu1.5 [1,164 kB]\n",
            "Get:5 http://archive.ubuntu.com/ubuntu jammy-updates/universe amd64 libpython2.7-dev amd64 2.7.18-13ubuntu1.5 [2,514 kB]\n",
            "Get:6 http://archive.ubuntu.com/ubuntu jammy/universe amd64 libpython2-dev amd64 2.7.18-3 [7,512 B]\n",
            "Get:7 http://archive.ubuntu.com/ubuntu jammy-updates/universe amd64 python2.7-dev amd64 2.7.18-13ubuntu1.5 [287 kB]\n",
            "Get:8 http://archive.ubuntu.com/ubuntu jammy/universe amd64 python2-dev amd64 2.7.18-3 [1,064 B]\n",
            "Fetched 4,011 kB in 2s (1,665 kB/s)\n",
            "debconf: unable to initialize frontend: Dialog\n",
            "debconf: (No usable dialog-like program is installed, so the dialog based frontend cannot be used. at /usr/share/perl5/Debconf/FrontEnd/Dialog.pm line 78, <> line 8.)\n",
            "debconf: falling back to frontend: Readline\n",
            "debconf: unable to initialize frontend: Readline\n",
            "debconf: (This frontend requires a controlling tty.)\n",
            "debconf: falling back to frontend: Teletype\n",
            "dpkg-preconfigure: unable to re-open stdin: \n",
            "Selecting previously unselected package python2-minimal.\n",
            "(Reading database ... 126926 files and directories currently installed.)\n",
            "Preparing to unpack .../python2-minimal_2.7.18-3_amd64.deb ...\n",
            "Unpacking python2-minimal (2.7.18-3) ...\n",
            "Selecting previously unselected package libpython2-stdlib:amd64.\n",
            "Preparing to unpack .../libpython2-stdlib_2.7.18-3_amd64.deb ...\n",
            "Unpacking libpython2-stdlib:amd64 (2.7.18-3) ...\n",
            "Setting up python2-minimal (2.7.18-3) ...\n",
            "Selecting previously unselected package python2.\n",
            "(Reading database ... 126952 files and directories currently installed.)\n",
            "Preparing to unpack .../0-python2_2.7.18-3_amd64.deb ...\n",
            "Unpacking python2 (2.7.18-3) ...\n",
            "Selecting previously unselected package libpython2.7:amd64.\n",
            "Preparing to unpack .../1-libpython2.7_2.7.18-13ubuntu1.5_amd64.deb ...\n",
            "Unpacking libpython2.7:amd64 (2.7.18-13ubuntu1.5) ...\n",
            "Selecting previously unselected package libpython2.7-dev:amd64.\n",
            "Preparing to unpack .../2-libpython2.7-dev_2.7.18-13ubuntu1.5_amd64.deb ...\n",
            "Unpacking libpython2.7-dev:amd64 (2.7.18-13ubuntu1.5) ...\n",
            "Selecting previously unselected package libpython2-dev:amd64.\n",
            "Preparing to unpack .../3-libpython2-dev_2.7.18-3_amd64.deb ...\n",
            "Unpacking libpython2-dev:amd64 (2.7.18-3) ...\n",
            "Selecting previously unselected package python2.7-dev.\n",
            "Preparing to unpack .../4-python2.7-dev_2.7.18-13ubuntu1.5_amd64.deb ...\n",
            "Unpacking python2.7-dev (2.7.18-13ubuntu1.5) ...\n",
            "Selecting previously unselected package python2-dev.\n",
            "Preparing to unpack .../5-python2-dev_2.7.18-3_amd64.deb ...\n",
            "Unpacking python2-dev (2.7.18-3) ...\n",
            "Setting up libpython2.7:amd64 (2.7.18-13ubuntu1.5) ...\n",
            "Setting up libpython2.7-dev:amd64 (2.7.18-13ubuntu1.5) ...\n",
            "Setting up libpython2-stdlib:amd64 (2.7.18-3) ...\n",
            "Setting up python2 (2.7.18-3) ...\n",
            "Setting up libpython2-dev:amd64 (2.7.18-3) ...\n",
            "Setting up python2.7-dev (2.7.18-13ubuntu1.5) ...\n",
            "Setting up python2-dev (2.7.18-3) ...\n",
            "Processing triggers for man-db (2.10.2-1) ...\n",
            "Processing triggers for libc-bin (2.35-0ubuntu3.8) ...\n",
            "/sbin/ldconfig.real: /usr/local/lib/libtcm_debug.so.1 is not a symbolic link\n",
            "\n",
            "/sbin/ldconfig.real: /usr/local/lib/libtbb.so.12 is not a symbolic link\n",
            "\n",
            "/sbin/ldconfig.real: /usr/local/lib/libur_adapter_opencl.so.0 is not a symbolic link\n",
            "\n",
            "/sbin/ldconfig.real: /usr/local/lib/libtbbbind_2_5.so.3 is not a symbolic link\n",
            "\n",
            "/sbin/ldconfig.real: /usr/local/lib/libtbbbind_2_0.so.3 is not a symbolic link\n",
            "\n",
            "/sbin/ldconfig.real: /usr/local/lib/libumf.so.0 is not a symbolic link\n",
            "\n",
            "/sbin/ldconfig.real: /usr/local/lib/libtbbbind.so.3 is not a symbolic link\n",
            "\n",
            "/sbin/ldconfig.real: /usr/local/lib/libur_loader.so.0 is not a symbolic link\n",
            "\n",
            "/sbin/ldconfig.real: /usr/local/lib/libtcm.so.1 is not a symbolic link\n",
            "\n",
            "/sbin/ldconfig.real: /usr/local/lib/libtbbmalloc_proxy.so.2 is not a symbolic link\n",
            "\n",
            "/sbin/ldconfig.real: /usr/local/lib/libtbbmalloc.so.2 is not a symbolic link\n",
            "\n",
            "/sbin/ldconfig.real: /usr/local/lib/libhwloc.so.15 is not a symbolic link\n",
            "\n",
            "/sbin/ldconfig.real: /usr/local/lib/libur_adapter_level_zero.so.0 is not a symbolic link\n",
            "\n"
          ]
        }
      ]
    },
    {
      "cell_type": "code",
      "source": [
        "!git clone https://github.com/glample/tagger.git"
      ],
      "metadata": {
        "colab": {
          "base_uri": "https://localhost:8080/"
        },
        "id": "MuuXN62eGkC8",
        "outputId": "fb8a34c9-88fe-4b02-99d7-d972fb240a77"
      },
      "execution_count": 1,
      "outputs": [
        {
          "output_type": "stream",
          "name": "stdout",
          "text": [
            "fatal: destination path 'tagger' already exists and is not an empty directory.\n"
          ]
        }
      ]
    },
    {
      "cell_type": "code",
      "source": [
        "!ls"
      ],
      "metadata": {
        "colab": {
          "base_uri": "https://localhost:8080/"
        },
        "id": "9HB1XvG1Gwjs",
        "outputId": "24f944fa-7d9c-4e63-dbe3-e0c45d43dbbb"
      },
      "execution_count": 2,
      "outputs": [
        {
          "output_type": "stream",
          "name": "stdout",
          "text": [
            "input.txt  sample_data\ttagger\n"
          ]
        }
      ]
    },
    {
      "cell_type": "code",
      "source": [
        "cd tagger"
      ],
      "metadata": {
        "id": "3V72Pd6NGqVB",
        "colab": {
          "base_uri": "https://localhost:8080/"
        },
        "outputId": "31229aa8-255a-408f-ee1c-80749a53b79e"
      },
      "execution_count": 3,
      "outputs": [
        {
          "output_type": "stream",
          "name": "stdout",
          "text": [
            "/content/tagger\n"
          ]
        }
      ]
    },
    {
      "cell_type": "code",
      "source": [
        "!python2.7 ./train.py --help"
      ],
      "metadata": {
        "colab": {
          "base_uri": "https://localhost:8080/"
        },
        "id": "aRRgQ_beHRQD",
        "outputId": "95637475-ced9-44c8-f3a7-a0ae95da8d84"
      },
      "execution_count": 4,
      "outputs": [
        {
          "output_type": "stream",
          "name": "stdout",
          "text": [
            "Usage: train.py [options]\n",
            "\n",
            "Options:\n",
            "  -h, --help            show this help message and exit\n",
            "  -T TRAIN, --train=TRAIN\n",
            "                        Train set location\n",
            "  -d DEV, --dev=DEV     Dev set location\n",
            "  -t TEST, --test=TEST  Test set location\n",
            "  -s TAG_SCHEME, --tag_scheme=TAG_SCHEME\n",
            "                        Tagging scheme (IOB or IOBES)\n",
            "  -l LOWER, --lower=LOWER\n",
            "                        Lowercase words (this will not affect character inputs)\n",
            "  -z ZEROS, --zeros=ZEROS\n",
            "                        Replace digits with 0\n",
            "  -c CHAR_DIM, --char_dim=CHAR_DIM\n",
            "                        Char embedding dimension\n",
            "  -C CHAR_LSTM_DIM, --char_lstm_dim=CHAR_LSTM_DIM\n",
            "                        Char LSTM hidden layer size\n",
            "  -b CHAR_BIDIRECT, --char_bidirect=CHAR_BIDIRECT\n",
            "                        Use a bidirectional LSTM for chars\n",
            "  -w WORD_DIM, --word_dim=WORD_DIM\n",
            "                        Token embedding dimension\n",
            "  -W WORD_LSTM_DIM, --word_lstm_dim=WORD_LSTM_DIM\n",
            "                        Token LSTM hidden layer size\n",
            "  -B WORD_BIDIRECT, --word_bidirect=WORD_BIDIRECT\n",
            "                        Use a bidirectional LSTM for words\n",
            "  -p PRE_EMB, --pre_emb=PRE_EMB\n",
            "                        Location of pretrained embeddings\n",
            "  -A ALL_EMB, --all_emb=ALL_EMB\n",
            "                        Load all embeddings\n",
            "  -a CAP_DIM, --cap_dim=CAP_DIM\n",
            "                        Capitalization feature dimension (0 to disable)\n",
            "  -f CRF, --crf=CRF     Use CRF (0 to disable)\n",
            "  -D DROPOUT, --dropout=DROPOUT\n",
            "                        Droupout on the input (0 = no dropout)\n",
            "  -L LR_METHOD, --lr_method=LR_METHOD\n",
            "                        Learning method (SGD, Adadelta, Adam..)\n",
            "  -r RELOAD, --reload=RELOAD\n",
            "                        Reload the last saved model\n"
          ]
        }
      ]
    },
    {
      "cell_type": "code",
      "source": [
        "s = 'Mark Watney visited Masrs.'"
      ],
      "metadata": {
        "id": "Souyp6GpHb0J"
      },
      "execution_count": 22,
      "outputs": []
    },
    {
      "cell_type": "code",
      "source": [
        "with open('input.txt', 'w') as f:\n",
        "  f.write(s)"
      ],
      "metadata": {
        "id": "2tQ1m7ZKHvim"
      },
      "execution_count": 23,
      "outputs": []
    },
    {
      "cell_type": "code",
      "source": [
        "!cat input.txt"
      ],
      "metadata": {
        "colab": {
          "base_uri": "https://localhost:8080/"
        },
        "id": "5qtzjtD9H3x7",
        "outputId": "58d66e76-8dc8-485f-eae9-47bc26713648"
      },
      "execution_count": 24,
      "outputs": [
        {
          "output_type": "stream",
          "name": "stdout",
          "text": [
            "Mark Watney visited Masrs."
          ]
        }
      ]
    },
    {
      "cell_type": "code",
      "source": [
        "!python2.7 ./tagger.py --model models/english/ --input input.txt --output output.txt"
      ],
      "metadata": {
        "colab": {
          "base_uri": "https://localhost:8080/"
        },
        "id": "x9kJ3vN7IBHQ",
        "outputId": "d41044ab-32fe-4e82-a1a5-2640b420e4ac"
      },
      "execution_count": 25,
      "outputs": [
        {
          "output_type": "stream",
          "name": "stdout",
          "text": [
            "Loading model...\n",
            "Compiling...\n",
            "WARNING (theano.tensor.blas): We did not find a dynamic library in the library_dir of the library we use for blas. If you use ATLAS, make sure to compile it with dynamics library.\n",
            "WARNING (theano.tensor.blas): We did not find a dynamic library in the library_dir of the library we use for blas. If you use ATLAS, make sure to compile it with dynamics library.\n",
            "Tagging...\n",
            "---- 1 lines tagged in 0.1203s ----\n"
          ]
        }
      ]
    },
    {
      "cell_type": "code",
      "source": [
        "!cat output.txt"
      ],
      "metadata": {
        "colab": {
          "base_uri": "https://localhost:8080/"
        },
        "id": "gnmdhTn6JD4m",
        "outputId": "d87cb4a7-6892-4fd6-c575-666d3bee6f83"
      },
      "execution_count": 26,
      "outputs": [
        {
          "output_type": "stream",
          "name": "stdout",
          "text": [
            "Mark__B-PER Watney__I-PER visited__O Masrs.__B-LOC\n"
          ]
        }
      ]
    }
  ]
}